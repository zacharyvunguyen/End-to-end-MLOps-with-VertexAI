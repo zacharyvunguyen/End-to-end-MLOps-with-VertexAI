{
 "cells": [
  {
   "cell_type": "code",
   "execution_count": 79,
   "id": "61199b96-ce0f-45f7-ae19-5ee9cf171fbb",
   "metadata": {
    "tags": [],
    "ExecuteTime": {
     "end_time": "2024-02-20T20:02:15.567177Z",
     "start_time": "2024-02-20T20:02:15.498850Z"
    }
   },
   "outputs": [],
   "source": [
    "#import sys\n",
    "#print(sys.executable)"
   ]
  },
  {
   "cell_type": "code",
   "execution_count": 1,
   "id": "2e3b6514-ae47-4e20-8172-4cfc8aa40389",
   "metadata": {
    "tags": [],
    "ExecuteTime": {
     "end_time": "2024-02-21T02:38:57.169147Z",
     "start_time": "2024-02-21T02:38:53.994615Z"
    }
   },
   "outputs": [],
   "source": [
    "import os\n",
    "import datetime\n",
    "import importlib\n",
    "import kfp\n",
    "from kfp import dsl, compiler\n",
    "from google.cloud import aiplatform\n",
    "from google_cloud_pipeline_components.v1.model import ModelUploadOp,ModelExportOp"
   ]
  },
  {
   "cell_type": "code",
   "execution_count": 2,
   "id": "4ea92e77-5b4a-44d3-8013-6038ab14f368",
   "metadata": {
    "tags": [],
    "ExecuteTime": {
     "end_time": "2024-02-21T02:39:24.686068Z",
     "start_time": "2024-02-21T02:39:24.680636Z"
    }
   },
   "outputs": [],
   "source": [
    "NOTEBOOK = 'pipeline_babyweight'\n",
    "PROJECT = 'babyweight-mlops'\n",
    "REGION = \"us-central1\"\n",
    "BUCKET = 'mlops_exp_prod_babyweight'\n",
    "APPNAME = \"babyweight\"\n",
    "BQ_DATASET = \"babyweight\"\n",
    "GOOGLE_APPLICATION_CREDENTIALS = '/Users/zacharynguyen/Documents/GitHub/End-to-end-MLOps-with-VertexAI/auth/babyweight-mlops-a0f3cc4a4260.json'\n",
    "\n",
    "os.environ[\"REGION\"] = REGION\n",
    "os.environ[\"PROJECT\"] = PROJECT\n",
    "os.environ[\"BUCKET\"] = BUCKET\n",
    "os.environ[\"GOOGLE_APPLICATION_CREDENTIALS\"] = GOOGLE_APPLICATION_CREDENTIALS"
   ]
  },
  {
   "cell_type": "markdown",
   "id": "90b32f7b-17fd-423e-b73f-421657fb8da0",
   "metadata": {},
   "source": [
    "## 1. Construct the Pipeline"
   ]
  },
  {
   "cell_type": "code",
   "execution_count": 3,
   "id": "fa10f19e-5c92-4277-9981-1f895d0d51f1",
   "metadata": {
    "tags": [],
    "ExecuteTime": {
     "end_time": "2024-02-21T02:39:51.614955Z",
     "start_time": "2024-02-21T02:39:51.597119Z"
    }
   },
   "outputs": [
    {
     "data": {
      "text/plain": "<module 'src.pipeline.zach_prepare_data_component' from '/Users/zacharynguyen/Documents/GitHub/End-to-end-MLOps-with-VertexAI/src/pipeline/zach_prepare_data_component.py'>"
     },
     "execution_count": 3,
     "metadata": {},
     "output_type": "execute_result"
    }
   ],
   "source": [
    "from src.pipeline import zach_prepare_data_component\n",
    "#from src_v1.pipeline import bqml_component\n",
    "#from src_v1.pipeline import custom_model_component\n",
    "#from src_v1.pipeline import model_selection_component\n",
    "\n",
    "importlib.reload(zach_prepare_data_component)\n",
    "#importlib.reload(bqml_component)\n",
    "#importlib.reload(custom_model_component)\n",
    "#importlib.reload(model_selection_component)"
   ]
  },
  {
   "cell_type": "code",
   "execution_count": 4,
   "id": "0f50420b-0269-4ba4-9975-4e4f4a491dc1",
   "metadata": {
    "tags": [],
    "ExecuteTime": {
     "end_time": "2024-02-21T02:39:58.858111Z",
     "start_time": "2024-02-21T02:39:58.841829Z"
    }
   },
   "outputs": [],
   "source": [
    "PIPELINE_URI = f\"gs://{BUCKET}/{APPNAME}\"\n",
    "TRAINING_PIPELINE_DISPLAY_NAME = f\"{APPNAME}-training-pipeline\"\n",
    "\n",
    "SOURCE_BQ_TABLE_ID = \"bigquery-public-data.samples.natality\"\n",
    "LIMIT = 25000\n",
    "\n",
    "\n",
    "#TRAINING_BQ_TABLE_ID = f\"{SOURCE_BQ_TABLE_ID}_prepped_limit_{LIMIT}\" \n",
    "#DATASET_DISPLAY_NAME= f\"babyweight_prepped_limit_{LIMIT}_dataset\"\n",
    "\n",
    "BQML_MODEL_NAME = f\"bqml_dnn_model_{APPNAME}\"\n",
    "BQML_MODEL_ID = f\"{PROJECT}.{BQ_DATASET}.{BQML_MODEL_NAME}\"\n",
    "BQML_TRAININGS_URI = f\"{PIPELINE_URI}/bqml-trainings\"\n",
    "BQML_MODEL_OUTPUT_DIR = f\"{BQML_TRAININGS_URI}/{BQML_MODEL_NAME}\"\n",
    "\n",
    "CUSTOM_MODEL_NAME = f\"custom_dnn_model_{APPNAME}\"\n",
    "CUSTOM_TRAININGS_URI = f\"{PIPELINE_URI}/custom-trainings\"\n",
    "CUSTOM_MODEL_OUTPUT_DIR = f\"{CUSTOM_TRAININGS_URI}/{CUSTOM_MODEL_NAME}\"\n",
    "TRAINING_REPLICA_COUNT = 1\n",
    "TRAINING_MACHINE_TYPE = \"n1-highmem-16\"\n",
    "TRAINING_ACCELERATOR_TYPE = \"NVIDIA_TESLA_K80\"\n",
    "TRAINING_ACCELERATOR_COUNT = 4\n",
    "\n",
    "#TENSORBOARD_INSTANCE = tb.resource_name\n",
    "NUM_EPOCHS = 10\n",
    "BATCH_SIZE = 256\n",
    "HIDDEN_UNITS = \"128,64,16\"\n",
    "DROPOUT_RATE = 0.4\n",
    "LEARNING_RATE = 0.01\n",
    "NUM_EMBEDS = 14\n",
    "PARAMETERS_DICT = {\n",
    "    \"num_epochs\": NUM_EPOCHS,\n",
    "    \"batch_size\": BATCH_SIZE,\n",
    "    \"hidden_units\": HIDDEN_UNITS,\n",
    "    \"dropout_rate\": DROPOUT_RATE,\n",
    "    \"learning_rate\": LEARNING_RATE,\n",
    "    \"num_embeds\": NUM_EMBEDS,\n",
    "}\n",
    "\n",
    "THRESHOLDS_DICT = {\"mse\": 3.0}\n",
    "ENDPOINT_DISPLAY_NAME = f\"endpoint_{APPNAME}\"\n",
    "\n",
    "DEPLOY_IMAGE=\"us-docker.pkg.dev/vertex-ai/prediction/tf2-cpu.2-7:latest\"\n",
    "DEPLOY_MACHINE_TYPE = \"n1-highmem-16\"\n",
    "DEPLOY_MIN_REPLICA_COUNT = 1\n",
    "DEPLOY_MAX_REPLICA_COUNT = 2\n",
    "\n",
    "#EXPLANATION_PARAMATERS = {\"sampledShapleyAttribution\": {\"pathCount\": 10}}\n",
    "#EXPLANATION_METADATA_JSON_PATH = f\"{CUSTOM_TRAININGS_URI[5:]}/explanation_metadata.json\""
   ]
  },
  {
   "cell_type": "code",
   "execution_count": 5,
   "id": "d1463ba6-acbb-4a5c-97fa-2874a3778764",
   "metadata": {
    "ExecuteTime": {
     "end_time": "2024-02-21T02:40:01.267957Z",
     "start_time": "2024-02-21T02:40:01.262169Z"
    }
   },
   "outputs": [],
   "source": [
    "#from google_cloud_pipeline_components.v1.custom_job import create_custom_training_job_op_from_component\n",
    "#\n",
    "#custom_model_training_op = create_custom_training_job_op_from_component(\n",
    "#    component_spec=custom_model_component.train_evaluate_custom_model_op, \n",
    "#    replica_count=TRAINING_REPLICA_COUNT,\n",
    "#    machine_type=TRAINING_MACHINE_TYPE,\n",
    "#    accelerator_type=TRAINING_ACCELERATOR_TYPE,\n",
    "#    accelerator_count=TRAINING_ACCELERATOR_COUNT,\n",
    "#    service_account=SERVICE_ACCOUNT,\n",
    "#    tensorboard=TENSORBOARD_INSTANCE,\n",
    "#    base_output_directory=BASE_OUTPUT_DIR\n",
    "#)"
   ]
  },
  {
   "cell_type": "code",
   "execution_count": 17,
   "id": "1a9c9292-2240-4218-bd94-cf3fd961b0e8",
   "metadata": {
    "tags": [],
    "ExecuteTime": {
     "end_time": "2024-02-25T03:55:37.534154Z",
     "start_time": "2024-02-25T03:55:37.502210Z"
    }
   },
   "outputs": [],
   "source": [
    "@dsl.pipeline(name = APPNAME, pipeline_root = PIPELINE_URI)\n",
    "def vertex_ai_pipeline(\n",
    "    project: str=PROJECT,\n",
    "    region: str=REGION,\n",
    "):\n",
    "    #from kfp.v2.components import importer_node\n",
    "    #from google_cloud_pipeline_components.types import artifact_types\n",
    "    #from google_cloud_pipeline_components.v1.model import ModelUploadOp\n",
    "    #from google_cloud_pipeline_components.v1.endpoint import EndpointCreateOp\n",
    "    #from google_cloud_pipeline_components.v1.endpoint import ModelDeployOp \n",
    "    #from google_cloud_pipeline_components.v1.batch_predict_job import ModelBatchPredictOp\n",
    "    #from google_cloud_pipeline_components.v1.bigquery import BigqueryCreateModelJobOp\n",
    "    #from google_cloud_pipeline_components.v1.bigquery import BigqueryEvaluateModelJobOp\n",
    "    #from google_cloud_pipeline_components.v1.bigquery import BigqueryExportModelJobOp\n",
    "    #from google_cloud_pipeline_components import aiplatform as gcpc_aip\n",
    "    \n",
    "    ####\n",
    "    from google_cloud_pipeline_components.v1.dataset.create_tabular_dataset.component import \\\n",
    "        tabular_dataset_create as TabularDatasetCreateOp\n",
    "    \n",
    "    ##################################\n",
    "    data_preparing_task = zach_prepare_data_component.bq_table_prep_op(\n",
    "        project=project,\n",
    "        region=region,\n",
    "        source_bq_table_id=SOURCE_BQ_TABLE_ID,\n",
    "        out_bq_dataset_id = f\"{PROJECT}.{BQ_DATASET}\",\n",
    "        limit=LIMIT, \n",
    "    ).set_display_name('prepped-bq-table-create')\n",
    "    \n",
    "    dataset_create_op = TabularDatasetCreateOp(\n",
    "        project=project,\n",
    "        location=region,\n",
    "        display_name=f\"{APPNAME}-DATASET\",\n",
    "        bq_source=data_preparing_task.outputs['prepped_data_uri'],\n",
    "    )"
   ]
  },
  {
   "cell_type": "markdown",
   "id": "0171e541-aaef-45e1-89f7-f55fb816b7cc",
   "metadata": {},
   "source": [
    "## 2. Compile the Pipeline"
   ]
  },
  {
   "cell_type": "code",
   "execution_count": 18,
   "id": "99c4fc30-b850-4542-b2a0-0e3c3b076f06",
   "metadata": {
    "tags": [],
    "ExecuteTime": {
     "end_time": "2024-02-25T03:55:41.433700Z",
     "start_time": "2024-02-25T03:55:41.050700Z"
    }
   },
   "outputs": [],
   "source": [
    "# Create a new (local) directory to store the complied file\n",
    "DIR = f\"temp\"\n",
    "!rm -rf {DIR}\n",
    "!mkdir -p {DIR}"
   ]
  },
  {
   "cell_type": "code",
   "execution_count": 19,
   "id": "70408218-fe17-4c63-b102-9d3bb48eec96",
   "metadata": {
    "tags": [],
    "ExecuteTime": {
     "end_time": "2024-02-25T03:55:42.114646Z",
     "start_time": "2024-02-25T03:55:42.023105Z"
    }
   },
   "outputs": [],
   "source": [
    "compiled_package = f\"{DIR}/compiled_pipeline_package.json\"\n",
    "\n",
    "compiler.Compiler().compile(\n",
    "    pipeline_func = vertex_ai_pipeline,\n",
    "    package_path = compiled_package\n",
    ")"
   ]
  },
  {
   "cell_type": "markdown",
   "id": "5497c222-34c3-404a-870e-a522f5978c61",
   "metadata": {},
   "source": [
    "## 3. Execute the Pipeline on Vertex AI"
   ]
  },
  {
   "cell_type": "code",
   "execution_count": 20,
   "id": "2b9ccf19-78b7-49e0-b5e6-ec5c42f948cb",
   "metadata": {
    "tags": [],
    "ExecuteTime": {
     "end_time": "2024-02-25T03:55:43.237002Z",
     "start_time": "2024-02-25T03:55:43.223109Z"
    }
   },
   "outputs": [],
   "source": [
    "aiplatform.init(project=PROJECT, location=REGION)"
   ]
  },
  {
   "cell_type": "code",
   "execution_count": 21,
   "id": "46538bf4-0a85-49ca-bcc5-25dc523144d6",
   "metadata": {
    "tags": [],
    "ExecuteTime": {
     "end_time": "2024-02-25T03:55:43.717749Z",
     "start_time": "2024-02-25T03:55:43.691733Z"
    }
   },
   "outputs": [],
   "source": [
    "pipeline_job = aiplatform.PipelineJob(\n",
    "    display_name = f\"{APPNAME}\",\n",
    "    template_path = compiled_package,\n",
    "    pipeline_root=PIPELINE_URI,\n",
    "    parameter_values = {\n",
    "        \"project\": PROJECT,\n",
    "        \"region\": REGION,\n",
    "    },\n",
    "    #enable_caching = False,        #//TRUE, by default//\n",
    "    labels = {'notebook':f'{NOTEBOOK}'}\n",
    ")"
   ]
  },
  {
   "cell_type": "code",
   "outputs": [],
   "source": [
    "SERVICE_ACCOUNT ='zacharynguyen@babyweight-mlops.iam.gserviceaccount.com'"
   ],
   "metadata": {
    "collapsed": false,
    "ExecuteTime": {
     "end_time": "2024-02-25T03:55:44.528976Z",
     "start_time": "2024-02-25T03:55:44.403681Z"
    }
   },
   "id": "8a2d63c4-d8c2-4016-a437-e0ddcba0f045",
   "execution_count": 22
  },
  {
   "cell_type": "code",
   "execution_count": 23,
   "id": "f2546555-2024-4d5a-8e83-6d76f45b7512",
   "metadata": {
    "tags": [],
    "ExecuteTime": {
     "end_time": "2024-02-25T03:57:35.871134Z",
     "start_time": "2024-02-25T03:55:44.853361Z"
    }
   },
   "outputs": [
    {
     "name": "stdout",
     "output_type": "stream",
     "text": [
      "Creating PipelineJob\n",
      "PipelineJob created. Resource name: projects/288906550115/locations/us-central1/pipelineJobs/babyweight-20240224215543\n",
      "To use this PipelineJob in another session:\n",
      "pipeline_job = aiplatform.PipelineJob.get('projects/288906550115/locations/us-central1/pipelineJobs/babyweight-20240224215543')\n",
      "View Pipeline Job:\n",
      "https://console.cloud.google.com/vertex-ai/locations/us-central1/pipelines/runs/babyweight-20240224215543?project=288906550115\n",
      "PipelineJob projects/288906550115/locations/us-central1/pipelineJobs/babyweight-20240224215543 current state:\n",
      "PipelineState.PIPELINE_STATE_RUNNING\n",
      "PipelineJob projects/288906550115/locations/us-central1/pipelineJobs/babyweight-20240224215543 current state:\n",
      "PipelineState.PIPELINE_STATE_RUNNING\n",
      "PipelineJob projects/288906550115/locations/us-central1/pipelineJobs/babyweight-20240224215543 current state:\n",
      "PipelineState.PIPELINE_STATE_RUNNING\n",
      "PipelineJob projects/288906550115/locations/us-central1/pipelineJobs/babyweight-20240224215543 current state:\n",
      "PipelineState.PIPELINE_STATE_RUNNING\n",
      "PipelineJob run completed. Resource name: projects/288906550115/locations/us-central1/pipelineJobs/babyweight-20240224215543\n"
     ]
    }
   ],
   "source": [
    "response = pipeline_job.run(\n",
    "    service_account = SERVICE_ACCOUNT,\n",
    "    #sync = True\n",
    ")"
   ]
  },
  {
   "cell_type": "code",
   "outputs": [],
   "source": [],
   "metadata": {
    "collapsed": false,
    "ExecuteTime": {
     "end_time": "2024-02-25T03:57:35.872796Z",
     "start_time": "2024-02-25T03:57:35.870781Z"
    }
   },
   "id": "aaabc8ef00377061",
   "execution_count": 23
  },
  {
   "cell_type": "code",
   "outputs": [],
   "source": [],
   "metadata": {
    "collapsed": false
   },
   "id": "41f495af8bc40a50"
  }
 ],
 "metadata": {
  "environment": {
   "kernel": "vertexpip_env",
   "name": "workbench-notebooks.m115",
   "type": "gcloud",
   "uri": "gcr.io/deeplearning-platform-release/workbench-notebooks:m115"
  },
  "kernelspec": {
   "name": "python3",
   "language": "python",
   "display_name": "Python 3 (ipykernel)"
  },
  "language_info": {
   "codemirror_mode": {
    "name": "ipython",
    "version": 3
   },
   "file_extension": ".py",
   "mimetype": "text/x-python",
   "name": "python",
   "nbconvert_exporter": "python",
   "pygments_lexer": "ipython3",
   "version": "3.9.18"
  }
 },
 "nbformat": 4,
 "nbformat_minor": 5
}
