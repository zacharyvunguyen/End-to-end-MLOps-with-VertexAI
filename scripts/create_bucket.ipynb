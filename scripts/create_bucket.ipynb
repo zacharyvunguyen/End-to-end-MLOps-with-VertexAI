{
 "cells": [
  {
   "cell_type": "code",
   "execution_count": 15,
   "id": "initial_id",
   "metadata": {
    "collapsed": true,
    "ExecuteTime": {
     "end_time": "2024-02-20T19:44:21.955072Z",
     "start_time": "2024-02-20T19:44:21.945118Z"
    }
   },
   "outputs": [],
   "source": [
    "from create_cloudstorage_bucket import create_bucket\n",
    "import os"
   ]
  },
  {
   "cell_type": "code",
   "outputs": [],
   "source": [
    "PROJECT = 'babyweight-mlops'\n",
    "REGION = \"us-central1\"\n",
    "BUCKET = 'mlops_exp_prod_babyweight'\n",
    "GOOGLE_APPLICATION_CREDENTIALS = '/Users/zacharynguyen/Documents/GitHub/End-to-end-MLOps-with-VertexAI/auth/babyweight-mlops-a0f3cc4a4260.json'"
   ],
   "metadata": {
    "collapsed": false,
    "ExecuteTime": {
     "end_time": "2024-02-20T19:44:31.930036Z",
     "start_time": "2024-02-20T19:44:31.925658Z"
    }
   },
   "id": "a9c40c6f1a2c3b9a",
   "execution_count": 16
  },
  {
   "cell_type": "code",
   "outputs": [],
   "source": [
    "os.environ[\"REGION\"] = REGION\n",
    "os.environ[\"PROJECT\"] = PROJECT\n",
    "os.environ[\"BUCKET\"] = BUCKET\n",
    "os.environ[\"GOOGLE_APPLICATION_CREDENTIALS\"] = GOOGLE_APPLICATION_CREDENTIALS"
   ],
   "metadata": {
    "collapsed": false,
    "ExecuteTime": {
     "end_time": "2024-02-20T19:44:33.714146Z",
     "start_time": "2024-02-20T19:44:33.706705Z"
    }
   },
   "id": "86c888d7f479bceb",
   "execution_count": 17
  },
  {
   "cell_type": "code",
   "outputs": [
    {
     "name": "stdout",
     "output_type": "stream",
     "text": [
      "Bucket mlops_exp_prod_babyweight created in US with storage class STANDARD\n"
     ]
    },
    {
     "data": {
      "text/plain": "<Bucket: mlops_exp_prod_babyweight>"
     },
     "execution_count": 18,
     "metadata": {},
     "output_type": "execute_result"
    }
   ],
   "source": [
    "create_bucket(BUCKET,location='US')"
   ],
   "metadata": {
    "collapsed": false,
    "ExecuteTime": {
     "end_time": "2024-02-20T19:44:46.657600Z",
     "start_time": "2024-02-20T19:44:45.427638Z"
    }
   },
   "id": "6495d10c45762112",
   "execution_count": 18
  },
  {
   "cell_type": "code",
   "outputs": [],
   "source": [],
   "metadata": {
    "collapsed": false
   },
   "id": "7c599194c431d73b"
  }
 ],
 "metadata": {
  "kernelspec": {
   "display_name": "Python 3",
   "language": "python",
   "name": "python3"
  },
  "language_info": {
   "codemirror_mode": {
    "name": "ipython",
    "version": 2
   },
   "file_extension": ".py",
   "mimetype": "text/x-python",
   "name": "python",
   "nbconvert_exporter": "python",
   "pygments_lexer": "ipython2",
   "version": "2.7.6"
  }
 },
 "nbformat": 4,
 "nbformat_minor": 5
}
